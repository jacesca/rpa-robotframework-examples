{
 "cells": [
  {
   "cell_type": "markdown",
   "id": "f9a68d36-9cf1-4a01-bc58-4aae4728054e",
   "metadata": {},
   "source": [
    "# RPA - Automation Process\n",
    "\n",
    "## Documentation\n",
    "\n",
    "- [Automation examples and tutorials, all in one place](https://robocorp.com/portal)\n",
    "- [Robot Framework libraries](https://robocorp.com/docs-robot-framework/libraries)\n",
    "- [GitHub action to update a robot in Robocorp Control Room](https://github.com/robocorp/action-upload-robot)\n",
    "- [Robocorp Automation training courses and certifications](https://robocorp.com/docs/courses)\n",
    "- [Eight best practices for RPA developers](https://www.cai.io/resources/thought-leadership/eight-best-practices-for-rpa-developers)\n",
    "- [Robocorp Workitems](https://rpaframework.org/libraries/robocorp_workitems/)\n",
    "- [Robot Framework Examples](https://docs.robotframework.org/docs/examples/overview)\n",
    "\n",
    "## Command Line Actions\n",
    "\n",
    "### Creating the rcc.exe file\n",
    "\n",
    "To enable a robot setup and running, use the following script"
   ]
  },
  {
   "cell_type": "code",
   "execution_count": 1,
   "id": "417d546d-205d-48c4-8566-3e7e9d774d1e",
   "metadata": {},
   "outputs": [
    {
     "name": "stderr",
     "output_type": "stream",
     "text": [
      "  % Total    % Received % Xferd  Average Speed   Time    Time     Time  Current\n",
      "                                 Dload  Upload   Total   Spent    Left  Speed\n",
      "\n",
      "  0     0    0     0    0     0      0      0 --:--:-- --:--:-- --:--:--     0\n",
      "  0     0    0     0    0     0      0      0 --:--:-- --:--:-- --:--:--     0\n",
      " 10 14.2M   10 1519k    0     0  1262k      0  0:00:11  0:00:01  0:00:10 1263k\n",
      "100 14.2M  100 14.2M    0     0  8058k      0  0:00:01  0:00:01 --:--:-- 8066k\n"
     ]
    }
   ],
   "source": [
    "!curl -o rcc.exe https://downloads.robocorp.com/rcc/releases/latest/windows64/rcc.exe"
   ]
  },
  {
   "cell_type": "code",
   "execution_count": 3,
   "id": "c6454c85-32f2-44e0-b0e1-d8e36f281d90",
   "metadata": {},
   "outputs": [
    {
     "name": "stdout",
     "output_type": "stream",
     "text": [
      "rcc.exe\n"
     ]
    }
   ],
   "source": [
    "!dir *.exe /b"
   ]
  },
  {
   "cell_type": "markdown",
   "id": "16eda7e1-fd52-472d-b4b7-312be5a8ac1a",
   "metadata": {},
   "source": [
    "### Robot creation command\n",
    "\n",
    "```\n",
    "rcc robot init -t <selected-template>\n",
    "```\n",
    "\n",
    "or\n",
    "\n",
    "```\n",
    "rcc create\n",
    "```"
   ]
  },
  {
   "cell_type": "markdown",
   "id": "5889de55-85f6-43d7-9716-25ee3fd4761d",
   "metadata": {},
   "source": [
    "### To execute a robot from the command line\n",
    "\n",
    "```\n",
    "cd <Task Robot Pkg Folder>\n",
    "rcc run\n",
    "```"
   ]
  },
  {
   "cell_type": "markdown",
   "id": "5330ea70-865b-475c-977f-af0f413fed9a",
   "metadata": {},
   "source": [
    "## General Information\n",
    "\n",
    "- Library to enable logging `robocorp.log`\n",
    "- Libraries to interact with browser based\"\n",
    "    * RPA.Browser.Selenium\n",
    "    * RPA.Browser.Playwright\n",
    "    * robocorp.browser\n",
    "- To update to the latest version of the robocorp library\n",
    "    * Update the conda.yaml file\n",
    "- The default output directory can be changed by:\n",
    "    * Editing the robot.yaml file"
   ]
  },
  {
   "cell_type": "markdown",
   "id": "29535f9d-6a21-4d95-86e9-bae9dfa985d5",
   "metadata": {},
   "source": [
    "-----------------------"
   ]
  }
 ],
 "metadata": {
  "kernelspec": {
   "display_name": "Python 3 (ipykernel)",
   "language": "python",
   "name": "python3"
  },
  "language_info": {
   "codemirror_mode": {
    "name": "ipython",
    "version": 3
   },
   "file_extension": ".py",
   "mimetype": "text/x-python",
   "name": "python",
   "nbconvert_exporter": "python",
   "pygments_lexer": "ipython3",
   "version": "3.12.4"
  }
 },
 "nbformat": 4,
 "nbformat_minor": 5
}
