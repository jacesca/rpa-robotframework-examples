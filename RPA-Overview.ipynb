{
 "cells": [
  {
   "cell_type": "markdown",
   "id": "357e3f73-6da0-4f2f-a2bf-089ebebb1a9b",
   "metadata": {},
   "source": [
    "# Level I: Beginner's\n",
    "\n",
    "## Requirements\n",
    "- VSCode IDE\n",
    "- [Robocorp Code](https://marketplace.visualstudio.com/items?itemName=robocorp.robocorp-code) Extension installed in VSCode"
   ]
  },
  {
   "cell_type": "markdown",
   "id": "a686c4df-7664-4e1e-8400-836353385c45",
   "metadata": {},
   "source": [
    "## First Robot (Example) \n",
    "\n",
    "**Goal:** Read an excel file, download and fill forms, one for each row of data in the file.\n",
    "\n",
    "Steps\n",
    "1. Open the folder project in VSCode.\n",
    "2. Open the command palette: `Ctrl + Shift + P`\n",
    "3. Look for `Create Robot`\n",
    "    - Select `Robocorp: Create Task Package (Robot)`\n",
    "    - Select `Python Browser Automation with Playwright`\n",
    "    - Select `Use child folder in Workspace (advanced)`\n",
    "    - Provida a name for the Task Package (Robot) folder name.\n",
    "5. We change `headless=True` to `headless=False` in tasks.py (solve_challenge() to observe the execution.\n",
    "\n",
    "-------------------------\n",
    "\n",
    "6. To Run it:\n",
    "    -  Option 1:\n",
    "        -  Open the command palette: `Ctrl + Shift + P`\n",
    "        -  Look for `Run Robot`\n",
    "        -  Select `Robocorp: Run Task Package (Robot)`\n",
    "    - Option 2:\n",
    "        - Run option in the `Robocorp Extension Menu` (Look for the icon in the left vertical icon bar)\n",
    "7. Once you run it, you can inspect the results: `FirstRobot/output/log.html`\n",
    "\n",
    "--------------------------\n",
    "\n",
    "8. Link to Control Room\n",
    "    - Look for in the command palette `Link Robot` >> Select `Robocorp: Link To Control Room`\n",
    "    - OR Select the option `Link to Control Room` in Section `Robocorp Cloud` in the Robocorp Menu (left side, once you click on Robocorp Icon)\n",
    "    - Once there, create access credentials `DemoCredentials`\n",
    "    - Copy the Access Credentials with the `Show Key` button.\n",
    "    - Paste it into the command palette, press Enter and Select Yes to Confirm"
   ]
  },
  {
   "cell_type": "markdown",
   "id": "b8ca18f6-e1a1-4f45-a5e3-41cb29d0f12e",
   "metadata": {},
   "source": [
    "## How to use Robocorp Vault to secure the automations\n",
    "\n",
    "Using Robocorp Vault we can handled sensitive data in the automations. In this example we are going to keep secure the url required for the challenge in the `FirstRobot` Example.\n",
    "\n",
    "1. Open the Robocorp Cloud by clicking on the cloud icon next to Linked Option in Section `Robocorp Cloud`.\n",
    "2. Select `Vault`\n",
    "3. Click on `Create Secret` and create `DemoFirstRobotURL`\n",
    "4. Add the key/values: `url` and `https://rpachallenge.com/`, click on the lock to open to see the value.\n",
    "5. Save it.\n",
    "6. On `tasks.py` file:\n",
    "    - Import `from robocorp import vault`\n",
    "    - Get the secrets with `secrets = vault.get_secret('DemoFirstRobotURL')`\n",
    "    - Replace the url `\"https://rpachallenge.com/\"` with the vault secret `secrets['url']`"
   ]
  },
  {
   "cell_type": "markdown",
   "id": "9153635d-2405-4e46-8fa9-107c8475442f",
   "metadata": {},
   "source": [
    "## Use Non-Sensitive Data Across Automations with Robocorp\n",
    "\n",
    "In this example, we are going to save `start button locator` to an Asset in the `Robocorp Cloud`\n",
    "\n",
    "1. Open the Robocorp Cloud by clicking on the cloud icon next to Linked Option in Section `Robocorp Cloud`.\n",
    "2. Select `Assets` and create one `FirstRobotLocators`.\n",
    "3. Select `Json` as the `Asset Content` style and add key value pairs: `start` and `button:text('Start')`\n",
    "4. Save it.\n",
    "5. On `tasks.py` file:\n",
    "    - Import `from robocorp import storage`\n",
    "    - Get the storage with `locators = storage.get_json('FirstRobotLocators')`\n",
    "    - Replace the locator `\"button:text('Start')\"` with the storage value `locators['start']`"
   ]
  },
  {
   "cell_type": "markdown",
   "id": "fff6c9d4-c308-4d39-8f5a-ad68845a659b",
   "metadata": {},
   "source": [
    "## Uploading the automation to the Robocorp Control Room\n",
    "\n",
    "1. Open the command palette: `Ctrl + Shift + P`\n",
    "2. Look for `Upload Robot`\n",
    "    - Select `Robocorp: Upload Task Package (Robot) to Control Room`\n",
    "    - Select `Create New Robot`\n",
    "    - Provide a name `FirstRobotDemo`\n",
    "3. Open the Robocorp Cloud by clicking on the cloud icon next to Linked Option in Section `Robocorp Cloud`.\n",
    "    - Select `Tasks`\n",
    "    - Verify `FirstRobotDemo` exists\n",
    "4. In the Robocorp Cloud, click on `Unattended` and select `Processes`\n",
    "    - Create one `Process Defined for the First Robot Demo` >> Click on `Continue`\n",
    "    - Add a task and click on Continue:\n",
    "        * Name: Step 1\n",
    "        * Add Task: Browser Example\n",
    "        * Worker: Cloud Worker\n",
    "    - Skip `Schedule` for now\n",
    "    - Skip `email notification` also\n",
    "    - Click on `Create Process`\n",
    "    - Click on `Run Process`"
   ]
  },
  {
   "cell_type": "markdown",
   "id": "9a76d176-6368-495a-bbcc-70e45c92d030",
   "metadata": {},
   "source": [
    "## How to import Task Packages\n",
    "\n",
    "1. Open the Robocorp Cloud by clicking on the cloud icon next to Linked Option in Section `Robocorp Cloud`.\n",
    "2. Select `Tasks` and click on `Add Task Package`.\n",
    "3. Provide a name and select `Public Git`\n",
    "4. Click on `https://github.com/robocorp/example-web-store-work-items.git`, a new tab will be opened.\n",
    "5. Look for the desired project (p.e. `Python - Browser automation with Playwright Template`)\n",
    "6. Click on `Try it Out` and copy the git url.\n",
    "7. Retur to the Robocorp Cloud and paste the url.\n",
    "8. Click on `Add`"
   ]
  },
  {
   "cell_type": "markdown",
   "id": "48be784a-ab95-475d-b6f9-7ef2ece2e66e",
   "metadata": {},
   "source": [
    "## Utilizing Self Hosted Workers in Robocorp Control Room\n",
    "\n",
    "You need to download [Robocorp Setup Utility](https://robocorp.com/docs/downloads#robocorp-setup-utility)\n",
    "\n",
    "1. Open the Robocorp Cloud by clicking on the cloud icon next to Linked Option in Section `Robocorp Cloud`.\n",
    "2. Select `Tasks` and click on `Add Task Package`.\n",
    "3. Click on `Unattended` and select `Workers`\n",
    "4. Click on `New Worker`\n",
    "5. Copy the `Token`\n",
    "6. Open `Robocorp Setup Utilities`\n",
    "7. Select `Windows workers`\n",
    "8. Provide a `Service User Name` and paste the `Token` to the `Service Log On Password`"
   ]
  },
  {
   "cell_type": "markdown",
   "id": "5cc85f27-bd9e-4c0a-86c8-85630fca914c",
   "metadata": {},
   "source": [
    "## How to Use Robocorp Control Room API\n",
    "\n",
    "[Robocop Api Documentation](https://robocorp.com/api)\n",
    "\n",
    "1. On the `Unattended` >> `Process` in `Robocorp Cloud`\n",
    "2. Select the process you want to work with\n",
    "3. Click on API Help (Upper right corner)\n",
    "4. Look for `Start Process Run` in `What do you want to do`"
   ]
  },
  {
   "cell_type": "markdown",
   "id": "a252cbea-c88d-4c2a-a7fa-fc2ee50e7627",
   "metadata": {},
   "source": [
    "## Inspector for Browser Automation\n",
    "\n",
    "1. Open the command palette: `Ctrl + Shift + P`\n",
    "2. Look for `Open Inspector`, select `Robocorp: Open Inspector`"
   ]
  },
  {
   "cell_type": "markdown",
   "id": "f08b6e3d-84ce-44ae-ae1a-a810d016e5d5",
   "metadata": {},
   "source": [
    "---------------------"
   ]
  }
 ],
 "metadata": {
  "kernelspec": {
   "display_name": "Python 3 (ipykernel)",
   "language": "python",
   "name": "python3"
  },
  "language_info": {
   "codemirror_mode": {
    "name": "ipython",
    "version": 3
   },
   "file_extension": ".py",
   "mimetype": "text/x-python",
   "name": "python",
   "nbconvert_exporter": "python",
   "pygments_lexer": "ipython3",
   "version": "3.12.4"
  }
 },
 "nbformat": 4,
 "nbformat_minor": 5
}
